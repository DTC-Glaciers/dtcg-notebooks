{
 "cells": [
  {
   "cell_type": "markdown",
   "id": "aa98ae2e-64a1-4b4b-a457-2e348c512954",
   "metadata": {},
   "source": [
    "**Important**: This notebook only works together with the oggm dev branch at the moment and requires SALib to be installed."
   ]
  },
  {
   "cell_type": "code",
   "execution_count": null,
   "id": "26446826-e30d-4712-b909-1d39f92d25c1",
   "metadata": {},
   "outputs": [],
   "source": [
    "#!pip install SALib"
   ]
  },
  {
   "cell_type": "code",
   "execution_count": 1,
   "id": "f1695663-3eab-4aa2-874f-b05301cb53f0",
   "metadata": {},
   "outputs": [],
   "source": [
    "import numpy as np\n",
    "import matplotlib.pyplot as plt\n",
    "\n",
    "from oggm import utils, workflow, tasks, cfg\n",
    "from oggm.core.massbalance import MonthlyTIModel\n",
    "\n",
    "import SALib.sample.sobol as sampler\n",
    "import SALib.analyze.sobol as analyser"
   ]
  },
  {
   "cell_type": "markdown",
   "id": "47ab70e5-65bb-4956-ab5d-fbf60d3a2c09",
   "metadata": {},
   "source": [
    "# Set up a gdir to play with"
   ]
  },
  {
   "cell_type": "code",
   "execution_count": 2,
   "id": "da584d25-d4fe-493b-a7a5-97aec7635be4",
   "metadata": {},
   "outputs": [
    {
     "name": "stderr",
     "output_type": "stream",
     "text": [
      "2025-08-29 13:06:04: oggm.cfg: Reading default parameters from the OGGM `params.cfg` configuration file.\n",
      "2025-08-29 13:06:04: oggm.cfg: Multiprocessing switched OFF according to the parameter file.\n",
      "2025-08-29 13:06:04: oggm.cfg: Multiprocessing: using all available processors (N=8)\n"
     ]
    }
   ],
   "source": [
    "cfg.initialize(logging_level=\"WARNING\")\n",
    "\n",
    "working_dir = 'working_dir_mcs'\n",
    "utils.mkdir(working_dir)\n",
    "cfg.PATHS[\"working_dir\"] = working_dir"
   ]
  },
  {
   "cell_type": "code",
   "execution_count": 3,
   "id": "bbf0de4d-26b5-474b-a142-ac6fc9d256ff",
   "metadata": {},
   "outputs": [
    {
     "name": "stderr",
     "output_type": "stream",
     "text": [
      "2025-08-29 13:06:04: oggm.workflow: init_glacier_directories from prepro level 3 on 1 glaciers.\n",
      "2025-08-29 13:06:04: oggm.workflow: Execute entity tasks [gdir_from_prepro] on 1 glaciers\n"
     ]
    }
   ],
   "source": [
    "rgi_ids = [\"RGI60-06.00377\"]\n",
    "base_url = 'https://cluster.klima.uni-bremen.de/~oggm/gdirs/oggm_v1.6/L3-L5_files/2023.3/elev_bands/W5E5/'\n",
    "gdirs = workflow.init_glacier_directories(\n",
    "        rgi_ids,\n",
    "        from_prepro_level=3,\n",
    "        prepro_border=10,\n",
    "        prepro_rgi_version=\"62\",\n",
    "        prepro_base_url=base_url,\n",
    "    )\n",
    "\n",
    "gdir = gdirs[0]"
   ]
  },
  {
   "cell_type": "code",
   "execution_count": 4,
   "id": "e97b3f0e-5b4e-41e1-81f8-ef82ce4b02a2",
   "metadata": {},
   "outputs": [
    {
     "name": "stderr",
     "output_type": "stream",
     "text": [
      "2025-08-29 13:06:04: oggm.workflow: Execute entity tasks [mb_calibration_from_hugonnet_mb] on 1 glaciers\n"
     ]
    }
   ],
   "source": [
    "# Redo calibration to get the observations values stored in the observations file (prepro gdirs are not created with dev)\n",
    "workflow.execute_entity_task(tasks.mb_calibration_from_hugonnet_mb,\n",
    "                             gdirs,\n",
    "                             informed_threestep=True,  # only available for 'GSWP3_W5E5'\n",
    "                            );"
   ]
  },
  {
   "cell_type": "markdown",
   "id": "f0b0a34c-400e-4139-bcc1-7bbdde745854",
   "metadata": {},
   "source": [
    "# Define a workflow to play with"
   ]
  },
  {
   "cell_type": "markdown",
   "id": "b485e57a-23ff-48b6-b042-95da34ae8e7b",
   "metadata": {},
   "source": [
    "Here you need to define a function which takes all parameters which are included in the uncertainty porpagation. Those parameters include observations (in my example reference mass balance `ref_mb`) and model parameters (in my example `melt_f`, `prcp_fac` and `temp_bias`). The function should conduct the calibration and potentially also a dynamic model run. All results should be stored using the `settings_filesuffix`."
   ]
  },
  {
   "cell_type": "code",
   "execution_count": 5,
   "id": "ed66f28b-ddd9-493b-9536-dc3aa15d2732",
   "metadata": {},
   "outputs": [],
   "source": [
    "def mcs_mb_calibration(gdir, settings_filesuffix, settings_parent_filesuffix,\n",
    "                       observations_filesuffix,\n",
    "                       ref_mb, ref_mb_period, ref_mb_err,\n",
    "                       prcp_fac, melt_f, temp_bias,\n",
    "                      ):\n",
    "    # add observations data to observations file\n",
    "    gdir.observations_filesuffix = observations_filesuffix\n",
    "    gdir.observations['ref_mb'] = {'err': ref_mb_err,\n",
    "                                   'period': ref_mb_period,\n",
    "                                   'value': ref_mb}\n",
    "\n",
    "    # create the new settings file with the correct parent_filesuffix\n",
    "    utils.ModelSettings(gdir, filesuffix=settings_filesuffix,\n",
    "                        parent_filesuffix=settings_parent_filesuffix)\n",
    "    gdir.settings_filesuffix = settings_filesuffix\n",
    "    gdir.settings['use_winter_prcp_fac'] = False  # this is checked in mb_calibration_from_scalar_mb\n",
    "\n",
    "    # the settings here mimic mb_calibration_from_hugonnet_mb\n",
    "    workflow.execute_entity_task(tasks.mb_calibration_from_scalar_mb,\n",
    "                                 gdir,\n",
    "                                 settings_filesuffix=settings_filesuffix,\n",
    "                                 observations_filesuffix=observations_filesuffix,\n",
    "                                 overwrite_gdir=True,\n",
    "                                 calibrate_param1='prcp_fac',\n",
    "                                 calibrate_param2='melt_f',\n",
    "                                 calibrate_param3='temp_bias',\n",
    "                                 prcp_fac=prcp_fac,\n",
    "                                 prcp_fac_min=prcp_fac * 0.8,\n",
    "                                 prcp_fac_max=prcp_fac * 1.2,\n",
    "                                 melt_f=melt_f,\n",
    "                                 temp_bias=temp_bias,\n",
    "                                 mb_model_class=MonthlyTIModel,\n",
    "                                )"
   ]
  },
  {
   "cell_type": "markdown",
   "id": "49fb66da-c079-47b1-9d4b-0895096ed7da",
   "metadata": {},
   "source": [
    "# Create sample of input parameters"
   ]
  },
  {
   "cell_type": "markdown",
   "id": "482aee02-7dfb-439d-bb4c-c5ec7740bd19",
   "metadata": {},
   "source": [
    "Here we define the distribution of the parameters we consider (observations and model parameters). This example here was just a quick setup for testing the principle workflow and need to be refined carefully depending on the application and the used type of observation. \n",
    "\n",
    "Here an overview which kind of distributions can be used and the meaning of 'bounds' depending on the selected distribution: https://salib.readthedocs.io/en/latest/user_guide/advanced.html#generating-alternate-distributions"
   ]
  },
  {
   "cell_type": "markdown",
   "id": "2296c383-fd7e-41ce-bc1d-b222d5c948a0",
   "metadata": {},
   "source": [
    "## define parameter distributions"
   ]
  },
  {
   "cell_type": "markdown",
   "id": "2a1d3946-47c9-4543-93e0-fe57a89840da",
   "metadata": {},
   "source": [
    "I included here a small in between step for defining the parameters in a more readable way and only at the end convert it into the format which is expected by the sampler."
   ]
  },
  {
   "cell_type": "code",
   "execution_count": 6,
   "id": "d787af9b-25be-492b-8b0d-0bfa5f5914b5",
   "metadata": {},
   "outputs": [],
   "source": [
    "# to have a better overview I provide the parameter distribution in a more readable way first\n",
    "parameter_distribution = {}\n",
    "\n",
    "# add geodetic mb observation\n",
    "gdir.observations_filesuffix = ''  # just to be sure to use the correct observations\n",
    "ref_mb = gdir.observations['ref_mb']\n",
    "parameter_distribution['ref_mb'] = {\n",
    "    'bounds': [ref_mb['value'] - ref_mb['err'],  # this need to be checked again if we should use +/-err/2\n",
    "               ref_mb['value'] + ref_mb['err']],\n",
    "    'dists': 'unif'  # need to be checked\n",
    "}\n",
    "\n",
    "# add mb parameter distributions (they are made up and need to be decided somehow)\n",
    "gdir.settings_filesuffix = ''\n",
    "parameter_distribution['prcp_fac'] = {\n",
    "    'bounds': [max(gdir.settings['prcp_fac'] * 0.5, gdir.settings['prcp_fac_min']),\n",
    "               min(gdir.settings['prcp_fac'] * 1.5, gdir.settings['prcp_fac_max'])\n",
    "              ],\n",
    "    'dists': 'unif'\n",
    "}\n",
    "parameter_distribution['melt_f'] = {\n",
    "    'bounds': [max(gdir.settings['melt_f'] - 1, gdir.settings['melt_f_min']),\n",
    "               min(gdir.settings['melt_f'] + 1, gdir.settings['melt_f_max'])],\n",
    "    'dists': 'unif'\n",
    "}\n",
    "parameter_distribution['temp_bias'] = {\n",
    "    'bounds': [max(gdir.settings['temp_bias'] - 0.5, gdir.settings['temp_bias_min']),\n",
    "               min(gdir.settings['temp_bias'] + 0.5, gdir.settings['temp_bias_max'])],\n",
    "    'dists': 'unif'\n",
    "}\n",
    "\n",
    "# now convert to format which is expected by SALib\n",
    "num_vars = 0\n",
    "problem = {\n",
    "    'names': [],\n",
    "    'bounds': [],\n",
    "    'dists': [],\n",
    "}\n",
    "\n",
    "for key in parameter_distribution:\n",
    "    num_vars += 1\n",
    "    problem['names'].append(key)\n",
    "    problem['bounds'].append(parameter_distribution[key]['bounds'])\n",
    "    problem['dists'].append(parameter_distribution[key]['dists'])\n",
    "problem['num_vars'] = num_vars"
   ]
  },
  {
   "cell_type": "code",
   "execution_count": 7,
   "id": "e1bf0bcd-62a9-4e81-8117-ef4ffb650c7b",
   "metadata": {},
   "outputs": [
    {
     "data": {
      "text/plain": [
       "{'names': ['ref_mb', 'prcp_fac', 'melt_f', 'temp_bias'],\n",
       " 'bounds': [[-700.3000000000001, -564.9],\n",
       "  [1.1682545377091955, 3.5047636131275866],\n",
       "  [4.0, 6.0],\n",
       "  [-0.7619605322613461, 0.23803946773865398]],\n",
       " 'dists': ['unif', 'unif', 'unif', 'unif'],\n",
       " 'num_vars': 4}"
      ]
     },
     "execution_count": 7,
     "metadata": {},
     "output_type": "execute_result"
    }
   ],
   "source": [
    "problem"
   ]
  },
  {
   "cell_type": "markdown",
   "id": "4cc3c318-524d-4413-9a29-7b4eb528b8e0",
   "metadata": {},
   "source": [
    "## create actual samples"
   ]
  },
  {
   "cell_type": "markdown",
   "id": "ccde8b3d-54e4-4d34-b13e-f5819fab6c17",
   "metadata": {},
   "source": [
    "Creating the actual sample is quite easy again. For more information on the sampling method you can read up the references provided in the sampler docstring `sampler.sample?`."
   ]
  },
  {
   "cell_type": "code",
   "execution_count": 9,
   "id": "32171be0-2414-4ae5-a43f-de3a1e07cae9",
   "metadata": {},
   "outputs": [],
   "source": [
    "# sampler.sample?"
   ]
  },
  {
   "cell_type": "code",
   "execution_count": 10,
   "id": "85e94373-48a4-4805-986c-84793066fe40",
   "metadata": {},
   "outputs": [],
   "source": [
    "# the total number of samples created is \n",
    "# - including second order interconnections: N * (2 * num_vars + 2)\n",
    "# - or only look at uncorrelated sensitivity with calc_second_order=False: N * (num_vars + 2)\n",
    "N = 2**5  # if using second order this needs to be a power of 2\n",
    "param_values = sampler.sample(problem, N, calc_second_order=True)"
   ]
  },
  {
   "cell_type": "code",
   "execution_count": 11,
   "id": "5e4eacff-1311-4027-9bfe-ace82435fe31",
   "metadata": {},
   "outputs": [
    {
     "data": {
      "text/plain": [
       "(320, 4)"
      ]
     },
     "execution_count": 11,
     "metadata": {},
     "output_type": "execute_result"
    }
   ],
   "source": [
    "param_values.shape"
   ]
  },
  {
   "cell_type": "markdown",
   "id": "4a2ee4e6-06be-4c47-b591-d602618ac9cc",
   "metadata": {},
   "source": [
    "# execute a calibration for each parameter setting"
   ]
  },
  {
   "cell_type": "markdown",
   "id": "9958059c-9b04-47a1-aab5-4d9dec3a0bcf",
   "metadata": {},
   "source": [
    "Here I loop through all samples and execute my function I defined above. For this we probably could utilize multiprocessing in the future (one option would be to make our function an entity_task and use the execute_entity_task logic)."
   ]
  },
  {
   "cell_type": "code",
   "execution_count": 12,
   "id": "20ce8de0-687b-4137-9e81-b6ce6326591e",
   "metadata": {
    "scrolled": true
   },
   "outputs": [
    {
     "name": "stderr",
     "output_type": "stream",
     "text": [
      "2025-08-29 13:06:09: oggm.workflow: Execute entity tasks [mb_calibration_from_scalar_mb] on 1 glaciers\n",
      "2025-08-29 13:06:09: oggm.workflow: Execute entity tasks [mb_calibration_from_scalar_mb] on 1 glaciers\n",
      "2025-08-29 13:06:09: oggm.workflow: Execute entity tasks [mb_calibration_from_scalar_mb] on 1 glaciers\n",
      "2025-08-29 13:06:09: oggm.workflow: Execute entity tasks [mb_calibration_from_scalar_mb] on 1 glaciers\n"
     ]
    },
    {
     "name": "stdout",
     "output_type": "stream",
     "text": [
      "1/320\n",
      "2/320\n",
      "3/320\n",
      "4/320\n"
     ]
    },
    {
     "name": "stderr",
     "output_type": "stream",
     "text": [
      "2025-08-29 13:06:09: oggm.workflow: Execute entity tasks [mb_calibration_from_scalar_mb] on 1 glaciers\n",
      "2025-08-29 13:06:09: oggm.workflow: Execute entity tasks [mb_calibration_from_scalar_mb] on 1 glaciers\n",
      "2025-08-29 13:06:09: oggm.workflow: Execute entity tasks [mb_calibration_from_scalar_mb] on 1 glaciers\n",
      "2025-08-29 13:06:09: oggm.workflow: Execute entity tasks [mb_calibration_from_scalar_mb] on 1 glaciers\n"
     ]
    },
    {
     "name": "stdout",
     "output_type": "stream",
     "text": [
      "5/320\n",
      "6/320\n",
      "7/320\n",
      "8/320\n"
     ]
    },
    {
     "name": "stderr",
     "output_type": "stream",
     "text": [
      "2025-08-29 13:06:10: oggm.workflow: Execute entity tasks [mb_calibration_from_scalar_mb] on 1 glaciers\n",
      "2025-08-29 13:06:10: oggm.workflow: Execute entity tasks [mb_calibration_from_scalar_mb] on 1 glaciers\n",
      "2025-08-29 13:06:10: oggm.workflow: Execute entity tasks [mb_calibration_from_scalar_mb] on 1 glaciers\n",
      "2025-08-29 13:06:10: oggm.workflow: Execute entity tasks [mb_calibration_from_scalar_mb] on 1 glaciers\n"
     ]
    },
    {
     "name": "stdout",
     "output_type": "stream",
     "text": [
      "9/320\n",
      "10/320\n",
      "11/320\n",
      "12/320\n"
     ]
    },
    {
     "name": "stderr",
     "output_type": "stream",
     "text": [
      "2025-08-29 13:06:10: oggm.workflow: Execute entity tasks [mb_calibration_from_scalar_mb] on 1 glaciers\n",
      "2025-08-29 13:06:10: oggm.workflow: Execute entity tasks [mb_calibration_from_scalar_mb] on 1 glaciers\n",
      "2025-08-29 13:06:10: oggm.workflow: Execute entity tasks [mb_calibration_from_scalar_mb] on 1 glaciers\n",
      "2025-08-29 13:06:10: oggm.workflow: Execute entity tasks [mb_calibration_from_scalar_mb] on 1 glaciers\n"
     ]
    },
    {
     "name": "stdout",
     "output_type": "stream",
     "text": [
      "13/320\n",
      "14/320\n",
      "15/320\n",
      "16/320\n"
     ]
    },
    {
     "name": "stderr",
     "output_type": "stream",
     "text": [
      "2025-08-29 13:06:10: oggm.workflow: Execute entity tasks [mb_calibration_from_scalar_mb] on 1 glaciers\n",
      "2025-08-29 13:06:10: oggm.workflow: Execute entity tasks [mb_calibration_from_scalar_mb] on 1 glaciers\n",
      "2025-08-29 13:06:10: oggm.workflow: Execute entity tasks [mb_calibration_from_scalar_mb] on 1 glaciers\n",
      "2025-08-29 13:06:10: oggm.workflow: Execute entity tasks [mb_calibration_from_scalar_mb] on 1 glaciers\n"
     ]
    },
    {
     "name": "stdout",
     "output_type": "stream",
     "text": [
      "17/320\n",
      "18/320\n",
      "19/320\n",
      "20/320\n"
     ]
    },
    {
     "name": "stderr",
     "output_type": "stream",
     "text": [
      "2025-08-29 13:06:10: oggm.workflow: Execute entity tasks [mb_calibration_from_scalar_mb] on 1 glaciers\n",
      "2025-08-29 13:06:10: oggm.workflow: Execute entity tasks [mb_calibration_from_scalar_mb] on 1 glaciers\n",
      "2025-08-29 13:06:10: oggm.workflow: Execute entity tasks [mb_calibration_from_scalar_mb] on 1 glaciers\n",
      "2025-08-29 13:06:10: oggm.workflow: Execute entity tasks [mb_calibration_from_scalar_mb] on 1 glaciers\n"
     ]
    },
    {
     "name": "stdout",
     "output_type": "stream",
     "text": [
      "21/320\n",
      "22/320\n",
      "23/320\n",
      "24/320\n"
     ]
    },
    {
     "name": "stderr",
     "output_type": "stream",
     "text": [
      "2025-08-29 13:06:10: oggm.workflow: Execute entity tasks [mb_calibration_from_scalar_mb] on 1 glaciers\n",
      "2025-08-29 13:06:10: oggm.workflow: Execute entity tasks [mb_calibration_from_scalar_mb] on 1 glaciers\n",
      "2025-08-29 13:06:11: oggm.workflow: Execute entity tasks [mb_calibration_from_scalar_mb] on 1 glaciers\n",
      "2025-08-29 13:06:11: oggm.workflow: Execute entity tasks [mb_calibration_from_scalar_mb] on 1 glaciers\n"
     ]
    },
    {
     "name": "stdout",
     "output_type": "stream",
     "text": [
      "25/320\n",
      "26/320\n",
      "27/320\n",
      "28/320\n"
     ]
    },
    {
     "name": "stderr",
     "output_type": "stream",
     "text": [
      "2025-08-29 13:06:11: oggm.workflow: Execute entity tasks [mb_calibration_from_scalar_mb] on 1 glaciers\n",
      "2025-08-29 13:06:11: oggm.workflow: Execute entity tasks [mb_calibration_from_scalar_mb] on 1 glaciers\n",
      "2025-08-29 13:06:11: oggm.workflow: Execute entity tasks [mb_calibration_from_scalar_mb] on 1 glaciers\n",
      "2025-08-29 13:06:11: oggm.workflow: Execute entity tasks [mb_calibration_from_scalar_mb] on 1 glaciers\n"
     ]
    },
    {
     "name": "stdout",
     "output_type": "stream",
     "text": [
      "29/320\n",
      "30/320\n",
      "31/320\n",
      "32/320\n"
     ]
    },
    {
     "name": "stderr",
     "output_type": "stream",
     "text": [
      "2025-08-29 13:06:11: oggm.workflow: Execute entity tasks [mb_calibration_from_scalar_mb] on 1 glaciers\n",
      "2025-08-29 13:06:11: oggm.workflow: Execute entity tasks [mb_calibration_from_scalar_mb] on 1 glaciers\n",
      "2025-08-29 13:06:11: oggm.workflow: Execute entity tasks [mb_calibration_from_scalar_mb] on 1 glaciers\n",
      "2025-08-29 13:06:11: oggm.workflow: Execute entity tasks [mb_calibration_from_scalar_mb] on 1 glaciers\n"
     ]
    },
    {
     "name": "stdout",
     "output_type": "stream",
     "text": [
      "33/320\n",
      "34/320\n",
      "35/320\n",
      "36/320\n"
     ]
    },
    {
     "name": "stderr",
     "output_type": "stream",
     "text": [
      "2025-08-29 13:06:11: oggm.workflow: Execute entity tasks [mb_calibration_from_scalar_mb] on 1 glaciers\n",
      "2025-08-29 13:06:11: oggm.workflow: Execute entity tasks [mb_calibration_from_scalar_mb] on 1 glaciers\n",
      "2025-08-29 13:06:11: oggm.workflow: Execute entity tasks [mb_calibration_from_scalar_mb] on 1 glaciers\n",
      "2025-08-29 13:06:11: oggm.workflow: Execute entity tasks [mb_calibration_from_scalar_mb] on 1 glaciers\n"
     ]
    },
    {
     "name": "stdout",
     "output_type": "stream",
     "text": [
      "37/320\n",
      "38/320\n",
      "39/320\n",
      "40/320\n"
     ]
    },
    {
     "name": "stderr",
     "output_type": "stream",
     "text": [
      "2025-08-29 13:06:11: oggm.workflow: Execute entity tasks [mb_calibration_from_scalar_mb] on 1 glaciers\n",
      "2025-08-29 13:06:11: oggm.workflow: Execute entity tasks [mb_calibration_from_scalar_mb] on 1 glaciers\n",
      "2025-08-29 13:06:11: oggm.workflow: Execute entity tasks [mb_calibration_from_scalar_mb] on 1 glaciers\n",
      "2025-08-29 13:06:11: oggm.workflow: Execute entity tasks [mb_calibration_from_scalar_mb] on 1 glaciers\n"
     ]
    },
    {
     "name": "stdout",
     "output_type": "stream",
     "text": [
      "41/320\n",
      "42/320\n",
      "43/320\n",
      "44/320\n"
     ]
    },
    {
     "name": "stderr",
     "output_type": "stream",
     "text": [
      "2025-08-29 13:06:12: oggm.workflow: Execute entity tasks [mb_calibration_from_scalar_mb] on 1 glaciers\n",
      "2025-08-29 13:06:12: oggm.workflow: Execute entity tasks [mb_calibration_from_scalar_mb] on 1 glaciers\n",
      "2025-08-29 13:06:12: oggm.workflow: Execute entity tasks [mb_calibration_from_scalar_mb] on 1 glaciers\n",
      "2025-08-29 13:06:12: oggm.workflow: Execute entity tasks [mb_calibration_from_scalar_mb] on 1 glaciers\n"
     ]
    },
    {
     "name": "stdout",
     "output_type": "stream",
     "text": [
      "45/320\n",
      "46/320\n",
      "47/320\n",
      "48/320\n"
     ]
    },
    {
     "name": "stderr",
     "output_type": "stream",
     "text": [
      "2025-08-29 13:06:12: oggm.workflow: Execute entity tasks [mb_calibration_from_scalar_mb] on 1 glaciers\n",
      "2025-08-29 13:06:12: oggm.workflow: Execute entity tasks [mb_calibration_from_scalar_mb] on 1 glaciers\n",
      "2025-08-29 13:06:12: oggm.workflow: Execute entity tasks [mb_calibration_from_scalar_mb] on 1 glaciers\n",
      "2025-08-29 13:06:12: oggm.workflow: Execute entity tasks [mb_calibration_from_scalar_mb] on 1 glaciers\n"
     ]
    },
    {
     "name": "stdout",
     "output_type": "stream",
     "text": [
      "49/320\n",
      "50/320\n",
      "51/320\n",
      "52/320\n"
     ]
    },
    {
     "name": "stderr",
     "output_type": "stream",
     "text": [
      "2025-08-29 13:06:12: oggm.workflow: Execute entity tasks [mb_calibration_from_scalar_mb] on 1 glaciers\n",
      "2025-08-29 13:06:12: oggm.workflow: Execute entity tasks [mb_calibration_from_scalar_mb] on 1 glaciers\n",
      "2025-08-29 13:06:12: oggm.workflow: Execute entity tasks [mb_calibration_from_scalar_mb] on 1 glaciers\n",
      "2025-08-29 13:06:12: oggm.workflow: Execute entity tasks [mb_calibration_from_scalar_mb] on 1 glaciers\n"
     ]
    },
    {
     "name": "stdout",
     "output_type": "stream",
     "text": [
      "53/320\n",
      "54/320\n",
      "55/320\n",
      "56/320\n"
     ]
    },
    {
     "name": "stderr",
     "output_type": "stream",
     "text": [
      "2025-08-29 13:06:12: oggm.workflow: Execute entity tasks [mb_calibration_from_scalar_mb] on 1 glaciers\n",
      "2025-08-29 13:06:12: oggm.workflow: Execute entity tasks [mb_calibration_from_scalar_mb] on 1 glaciers\n",
      "2025-08-29 13:06:12: oggm.workflow: Execute entity tasks [mb_calibration_from_scalar_mb] on 1 glaciers\n",
      "2025-08-29 13:06:12: oggm.workflow: Execute entity tasks [mb_calibration_from_scalar_mb] on 1 glaciers\n"
     ]
    },
    {
     "name": "stdout",
     "output_type": "stream",
     "text": [
      "57/320\n",
      "58/320\n",
      "59/320\n",
      "60/320\n"
     ]
    },
    {
     "name": "stderr",
     "output_type": "stream",
     "text": [
      "2025-08-29 13:06:12: oggm.workflow: Execute entity tasks [mb_calibration_from_scalar_mb] on 1 glaciers\n",
      "2025-08-29 13:06:12: oggm.workflow: Execute entity tasks [mb_calibration_from_scalar_mb] on 1 glaciers\n",
      "2025-08-29 13:06:13: oggm.workflow: Execute entity tasks [mb_calibration_from_scalar_mb] on 1 glaciers\n",
      "2025-08-29 13:06:13: oggm.workflow: Execute entity tasks [mb_calibration_from_scalar_mb] on 1 glaciers\n"
     ]
    },
    {
     "name": "stdout",
     "output_type": "stream",
     "text": [
      "61/320\n",
      "62/320\n",
      "63/320\n",
      "64/320\n"
     ]
    },
    {
     "name": "stderr",
     "output_type": "stream",
     "text": [
      "2025-08-29 13:06:13: oggm.workflow: Execute entity tasks [mb_calibration_from_scalar_mb] on 1 glaciers\n",
      "2025-08-29 13:06:13: oggm.workflow: Execute entity tasks [mb_calibration_from_scalar_mb] on 1 glaciers\n",
      "2025-08-29 13:06:13: oggm.workflow: Execute entity tasks [mb_calibration_from_scalar_mb] on 1 glaciers\n",
      "2025-08-29 13:06:13: oggm.workflow: Execute entity tasks [mb_calibration_from_scalar_mb] on 1 glaciers\n"
     ]
    },
    {
     "name": "stdout",
     "output_type": "stream",
     "text": [
      "65/320\n",
      "66/320\n",
      "67/320\n",
      "68/320\n"
     ]
    },
    {
     "name": "stderr",
     "output_type": "stream",
     "text": [
      "2025-08-29 13:06:13: oggm.workflow: Execute entity tasks [mb_calibration_from_scalar_mb] on 1 glaciers\n",
      "2025-08-29 13:06:13: oggm.workflow: Execute entity tasks [mb_calibration_from_scalar_mb] on 1 glaciers\n",
      "2025-08-29 13:06:13: oggm.workflow: Execute entity tasks [mb_calibration_from_scalar_mb] on 1 glaciers\n"
     ]
    },
    {
     "name": "stdout",
     "output_type": "stream",
     "text": [
      "69/320\n",
      "70/320\n",
      "71/320\n"
     ]
    },
    {
     "name": "stderr",
     "output_type": "stream",
     "text": [
      "2025-08-29 13:06:13: oggm.workflow: Execute entity tasks [mb_calibration_from_scalar_mb] on 1 glaciers\n",
      "2025-08-29 13:06:13: oggm.workflow: Execute entity tasks [mb_calibration_from_scalar_mb] on 1 glaciers\n",
      "2025-08-29 13:06:13: oggm.workflow: Execute entity tasks [mb_calibration_from_scalar_mb] on 1 glaciers\n",
      "2025-08-29 13:06:13: oggm.workflow: Execute entity tasks [mb_calibration_from_scalar_mb] on 1 glaciers\n"
     ]
    },
    {
     "name": "stdout",
     "output_type": "stream",
     "text": [
      "72/320\n",
      "73/320\n",
      "74/320\n",
      "75/320\n"
     ]
    },
    {
     "name": "stderr",
     "output_type": "stream",
     "text": [
      "2025-08-29 13:06:13: oggm.workflow: Execute entity tasks [mb_calibration_from_scalar_mb] on 1 glaciers\n",
      "2025-08-29 13:06:13: oggm.workflow: Execute entity tasks [mb_calibration_from_scalar_mb] on 1 glaciers\n",
      "2025-08-29 13:06:14: oggm.workflow: Execute entity tasks [mb_calibration_from_scalar_mb] on 1 glaciers\n",
      "2025-08-29 13:06:14: oggm.workflow: Execute entity tasks [mb_calibration_from_scalar_mb] on 1 glaciers\n"
     ]
    },
    {
     "name": "stdout",
     "output_type": "stream",
     "text": [
      "76/320\n",
      "77/320\n",
      "78/320\n",
      "79/320\n"
     ]
    },
    {
     "name": "stderr",
     "output_type": "stream",
     "text": [
      "2025-08-29 13:06:14: oggm.workflow: Execute entity tasks [mb_calibration_from_scalar_mb] on 1 glaciers\n",
      "2025-08-29 13:06:14: oggm.workflow: Execute entity tasks [mb_calibration_from_scalar_mb] on 1 glaciers\n",
      "2025-08-29 13:06:14: oggm.workflow: Execute entity tasks [mb_calibration_from_scalar_mb] on 1 glaciers\n",
      "2025-08-29 13:06:14: oggm.workflow: Execute entity tasks [mb_calibration_from_scalar_mb] on 1 glaciers\n"
     ]
    },
    {
     "name": "stdout",
     "output_type": "stream",
     "text": [
      "80/320\n",
      "81/320\n",
      "82/320\n",
      "83/320\n"
     ]
    },
    {
     "name": "stderr",
     "output_type": "stream",
     "text": [
      "2025-08-29 13:06:14: oggm.workflow: Execute entity tasks [mb_calibration_from_scalar_mb] on 1 glaciers\n",
      "2025-08-29 13:06:14: oggm.workflow: Execute entity tasks [mb_calibration_from_scalar_mb] on 1 glaciers\n",
      "2025-08-29 13:06:14: oggm.workflow: Execute entity tasks [mb_calibration_from_scalar_mb] on 1 glaciers\n",
      "2025-08-29 13:06:14: oggm.workflow: Execute entity tasks [mb_calibration_from_scalar_mb] on 1 glaciers\n"
     ]
    },
    {
     "name": "stdout",
     "output_type": "stream",
     "text": [
      "84/320\n",
      "85/320\n",
      "86/320\n",
      "87/320\n"
     ]
    },
    {
     "name": "stderr",
     "output_type": "stream",
     "text": [
      "2025-08-29 13:06:14: oggm.workflow: Execute entity tasks [mb_calibration_from_scalar_mb] on 1 glaciers\n",
      "2025-08-29 13:06:14: oggm.workflow: Execute entity tasks [mb_calibration_from_scalar_mb] on 1 glaciers\n",
      "2025-08-29 13:06:14: oggm.workflow: Execute entity tasks [mb_calibration_from_scalar_mb] on 1 glaciers\n",
      "2025-08-29 13:06:14: oggm.workflow: Execute entity tasks [mb_calibration_from_scalar_mb] on 1 glaciers\n"
     ]
    },
    {
     "name": "stdout",
     "output_type": "stream",
     "text": [
      "88/320\n",
      "89/320\n",
      "90/320\n",
      "91/320\n"
     ]
    },
    {
     "name": "stderr",
     "output_type": "stream",
     "text": [
      "2025-08-29 13:06:14: oggm.workflow: Execute entity tasks [mb_calibration_from_scalar_mb] on 1 glaciers\n",
      "2025-08-29 13:06:14: oggm.workflow: Execute entity tasks [mb_calibration_from_scalar_mb] on 1 glaciers\n",
      "2025-08-29 13:06:14: oggm.workflow: Execute entity tasks [mb_calibration_from_scalar_mb] on 1 glaciers\n",
      "2025-08-29 13:06:14: oggm.workflow: Execute entity tasks [mb_calibration_from_scalar_mb] on 1 glaciers\n"
     ]
    },
    {
     "name": "stdout",
     "output_type": "stream",
     "text": [
      "92/320\n",
      "93/320\n",
      "94/320\n",
      "95/320\n"
     ]
    },
    {
     "name": "stderr",
     "output_type": "stream",
     "text": [
      "2025-08-29 13:06:15: oggm.workflow: Execute entity tasks [mb_calibration_from_scalar_mb] on 1 glaciers\n",
      "2025-08-29 13:06:15: oggm.workflow: Execute entity tasks [mb_calibration_from_scalar_mb] on 1 glaciers\n",
      "2025-08-29 13:06:15: oggm.workflow: Execute entity tasks [mb_calibration_from_scalar_mb] on 1 glaciers\n",
      "2025-08-29 13:06:15: oggm.workflow: Execute entity tasks [mb_calibration_from_scalar_mb] on 1 glaciers\n"
     ]
    },
    {
     "name": "stdout",
     "output_type": "stream",
     "text": [
      "96/320\n",
      "97/320\n",
      "98/320\n",
      "99/320\n"
     ]
    },
    {
     "name": "stderr",
     "output_type": "stream",
     "text": [
      "2025-08-29 13:06:15: oggm.workflow: Execute entity tasks [mb_calibration_from_scalar_mb] on 1 glaciers\n",
      "2025-08-29 13:06:15: oggm.workflow: Execute entity tasks [mb_calibration_from_scalar_mb] on 1 glaciers\n",
      "2025-08-29 13:06:15: oggm.workflow: Execute entity tasks [mb_calibration_from_scalar_mb] on 1 glaciers\n",
      "2025-08-29 13:06:15: oggm.workflow: Execute entity tasks [mb_calibration_from_scalar_mb] on 1 glaciers\n"
     ]
    },
    {
     "name": "stdout",
     "output_type": "stream",
     "text": [
      "100/320\n",
      "101/320\n",
      "102/320\n",
      "103/320\n"
     ]
    },
    {
     "name": "stderr",
     "output_type": "stream",
     "text": [
      "2025-08-29 13:06:15: oggm.workflow: Execute entity tasks [mb_calibration_from_scalar_mb] on 1 glaciers\n",
      "2025-08-29 13:06:15: oggm.workflow: Execute entity tasks [mb_calibration_from_scalar_mb] on 1 glaciers\n",
      "2025-08-29 13:06:15: oggm.workflow: Execute entity tasks [mb_calibration_from_scalar_mb] on 1 glaciers\n",
      "2025-08-29 13:06:15: oggm.workflow: Execute entity tasks [mb_calibration_from_scalar_mb] on 1 glaciers\n"
     ]
    },
    {
     "name": "stdout",
     "output_type": "stream",
     "text": [
      "104/320\n",
      "105/320\n",
      "106/320\n",
      "107/320\n"
     ]
    },
    {
     "name": "stderr",
     "output_type": "stream",
     "text": [
      "2025-08-29 13:06:15: oggm.workflow: Execute entity tasks [mb_calibration_from_scalar_mb] on 1 glaciers\n",
      "2025-08-29 13:06:15: oggm.workflow: Execute entity tasks [mb_calibration_from_scalar_mb] on 1 glaciers\n",
      "2025-08-29 13:06:15: oggm.workflow: Execute entity tasks [mb_calibration_from_scalar_mb] on 1 glaciers\n",
      "2025-08-29 13:06:15: oggm.workflow: Execute entity tasks [mb_calibration_from_scalar_mb] on 1 glaciers\n"
     ]
    },
    {
     "name": "stdout",
     "output_type": "stream",
     "text": [
      "108/320\n",
      "109/320\n",
      "110/320\n",
      "111/320\n"
     ]
    },
    {
     "name": "stderr",
     "output_type": "stream",
     "text": [
      "2025-08-29 13:06:15: oggm.workflow: Execute entity tasks [mb_calibration_from_scalar_mb] on 1 glaciers\n",
      "2025-08-29 13:06:16: oggm.workflow: Execute entity tasks [mb_calibration_from_scalar_mb] on 1 glaciers\n",
      "2025-08-29 13:06:16: oggm.workflow: Execute entity tasks [mb_calibration_from_scalar_mb] on 1 glaciers\n",
      "2025-08-29 13:06:16: oggm.workflow: Execute entity tasks [mb_calibration_from_scalar_mb] on 1 glaciers\n"
     ]
    },
    {
     "name": "stdout",
     "output_type": "stream",
     "text": [
      "112/320\n",
      "113/320\n",
      "114/320\n",
      "115/320\n"
     ]
    },
    {
     "name": "stderr",
     "output_type": "stream",
     "text": [
      "2025-08-29 13:06:16: oggm.workflow: Execute entity tasks [mb_calibration_from_scalar_mb] on 1 glaciers\n",
      "2025-08-29 13:06:16: oggm.workflow: Execute entity tasks [mb_calibration_from_scalar_mb] on 1 glaciers\n",
      "2025-08-29 13:06:16: oggm.workflow: Execute entity tasks [mb_calibration_from_scalar_mb] on 1 glaciers\n",
      "2025-08-29 13:06:16: oggm.workflow: Execute entity tasks [mb_calibration_from_scalar_mb] on 1 glaciers\n"
     ]
    },
    {
     "name": "stdout",
     "output_type": "stream",
     "text": [
      "116/320\n",
      "117/320\n",
      "118/320\n",
      "119/320\n"
     ]
    },
    {
     "name": "stderr",
     "output_type": "stream",
     "text": [
      "2025-08-29 13:06:16: oggm.workflow: Execute entity tasks [mb_calibration_from_scalar_mb] on 1 glaciers\n",
      "2025-08-29 13:06:16: oggm.workflow: Execute entity tasks [mb_calibration_from_scalar_mb] on 1 glaciers\n",
      "2025-08-29 13:06:16: oggm.workflow: Execute entity tasks [mb_calibration_from_scalar_mb] on 1 glaciers\n",
      "2025-08-29 13:06:16: oggm.workflow: Execute entity tasks [mb_calibration_from_scalar_mb] on 1 glaciers\n"
     ]
    },
    {
     "name": "stdout",
     "output_type": "stream",
     "text": [
      "120/320\n",
      "121/320\n",
      "122/320\n",
      "123/320\n"
     ]
    },
    {
     "name": "stderr",
     "output_type": "stream",
     "text": [
      "2025-08-29 13:06:16: oggm.workflow: Execute entity tasks [mb_calibration_from_scalar_mb] on 1 glaciers\n",
      "2025-08-29 13:06:16: oggm.workflow: Execute entity tasks [mb_calibration_from_scalar_mb] on 1 glaciers\n",
      "2025-08-29 13:06:16: oggm.workflow: Execute entity tasks [mb_calibration_from_scalar_mb] on 1 glaciers\n"
     ]
    },
    {
     "name": "stdout",
     "output_type": "stream",
     "text": [
      "124/320\n",
      "125/320\n",
      "126/320\n"
     ]
    },
    {
     "name": "stderr",
     "output_type": "stream",
     "text": [
      "2025-08-29 13:06:16: oggm.workflow: Execute entity tasks [mb_calibration_from_scalar_mb] on 1 glaciers\n",
      "2025-08-29 13:06:16: oggm.workflow: Execute entity tasks [mb_calibration_from_scalar_mb] on 1 glaciers\n",
      "2025-08-29 13:06:16: oggm.workflow: Execute entity tasks [mb_calibration_from_scalar_mb] on 1 glaciers\n",
      "2025-08-29 13:06:17: oggm.workflow: Execute entity tasks [mb_calibration_from_scalar_mb] on 1 glaciers\n"
     ]
    },
    {
     "name": "stdout",
     "output_type": "stream",
     "text": [
      "127/320\n",
      "128/320\n",
      "129/320\n",
      "130/320\n"
     ]
    },
    {
     "name": "stderr",
     "output_type": "stream",
     "text": [
      "2025-08-29 13:06:17: oggm.workflow: Execute entity tasks [mb_calibration_from_scalar_mb] on 1 glaciers\n",
      "2025-08-29 13:06:17: oggm.workflow: Execute entity tasks [mb_calibration_from_scalar_mb] on 1 glaciers\n",
      "2025-08-29 13:06:17: oggm.workflow: Execute entity tasks [mb_calibration_from_scalar_mb] on 1 glaciers\n",
      "2025-08-29 13:06:17: oggm.workflow: Execute entity tasks [mb_calibration_from_scalar_mb] on 1 glaciers\n"
     ]
    },
    {
     "name": "stdout",
     "output_type": "stream",
     "text": [
      "131/320\n",
      "132/320\n",
      "133/320\n",
      "134/320\n"
     ]
    },
    {
     "name": "stderr",
     "output_type": "stream",
     "text": [
      "2025-08-29 13:06:17: oggm.workflow: Execute entity tasks [mb_calibration_from_scalar_mb] on 1 glaciers\n",
      "2025-08-29 13:06:17: oggm.workflow: Execute entity tasks [mb_calibration_from_scalar_mb] on 1 glaciers\n",
      "2025-08-29 13:06:17: oggm.workflow: Execute entity tasks [mb_calibration_from_scalar_mb] on 1 glaciers\n",
      "2025-08-29 13:06:17: oggm.workflow: Execute entity tasks [mb_calibration_from_scalar_mb] on 1 glaciers\n"
     ]
    },
    {
     "name": "stdout",
     "output_type": "stream",
     "text": [
      "135/320\n",
      "136/320\n",
      "137/320\n",
      "138/320\n"
     ]
    },
    {
     "name": "stderr",
     "output_type": "stream",
     "text": [
      "2025-08-29 13:06:17: oggm.workflow: Execute entity tasks [mb_calibration_from_scalar_mb] on 1 glaciers\n",
      "2025-08-29 13:06:17: oggm.workflow: Execute entity tasks [mb_calibration_from_scalar_mb] on 1 glaciers\n",
      "2025-08-29 13:06:17: oggm.workflow: Execute entity tasks [mb_calibration_from_scalar_mb] on 1 glaciers\n",
      "2025-08-29 13:06:17: oggm.workflow: Execute entity tasks [mb_calibration_from_scalar_mb] on 1 glaciers\n"
     ]
    },
    {
     "name": "stdout",
     "output_type": "stream",
     "text": [
      "139/320\n",
      "140/320\n",
      "141/320\n",
      "142/320\n"
     ]
    },
    {
     "name": "stderr",
     "output_type": "stream",
     "text": [
      "2025-08-29 13:06:17: oggm.workflow: Execute entity tasks [mb_calibration_from_scalar_mb] on 1 glaciers\n",
      "2025-08-29 13:06:17: oggm.workflow: Execute entity tasks [mb_calibration_from_scalar_mb] on 1 glaciers\n",
      "2025-08-29 13:06:17: oggm.workflow: Execute entity tasks [mb_calibration_from_scalar_mb] on 1 glaciers\n",
      "2025-08-29 13:06:17: oggm.workflow: Execute entity tasks [mb_calibration_from_scalar_mb] on 1 glaciers\n"
     ]
    },
    {
     "name": "stdout",
     "output_type": "stream",
     "text": [
      "143/320\n",
      "144/320\n",
      "145/320\n",
      "146/320\n"
     ]
    },
    {
     "name": "stderr",
     "output_type": "stream",
     "text": [
      "2025-08-29 13:06:17: oggm.workflow: Execute entity tasks [mb_calibration_from_scalar_mb] on 1 glaciers\n",
      "2025-08-29 13:06:18: oggm.workflow: Execute entity tasks [mb_calibration_from_scalar_mb] on 1 glaciers\n",
      "2025-08-29 13:06:18: oggm.workflow: Execute entity tasks [mb_calibration_from_scalar_mb] on 1 glaciers\n",
      "2025-08-29 13:06:18: oggm.workflow: Execute entity tasks [mb_calibration_from_scalar_mb] on 1 glaciers\n"
     ]
    },
    {
     "name": "stdout",
     "output_type": "stream",
     "text": [
      "147/320\n",
      "148/320\n",
      "149/320\n",
      "150/320\n"
     ]
    },
    {
     "name": "stderr",
     "output_type": "stream",
     "text": [
      "2025-08-29 13:06:18: oggm.workflow: Execute entity tasks [mb_calibration_from_scalar_mb] on 1 glaciers\n",
      "2025-08-29 13:06:18: oggm.workflow: Execute entity tasks [mb_calibration_from_scalar_mb] on 1 glaciers\n",
      "2025-08-29 13:06:18: oggm.workflow: Execute entity tasks [mb_calibration_from_scalar_mb] on 1 glaciers\n",
      "2025-08-29 13:06:18: oggm.workflow: Execute entity tasks [mb_calibration_from_scalar_mb] on 1 glaciers\n"
     ]
    },
    {
     "name": "stdout",
     "output_type": "stream",
     "text": [
      "151/320\n",
      "152/320\n",
      "153/320\n",
      "154/320\n"
     ]
    },
    {
     "name": "stderr",
     "output_type": "stream",
     "text": [
      "2025-08-29 13:06:18: oggm.workflow: Execute entity tasks [mb_calibration_from_scalar_mb] on 1 glaciers\n",
      "2025-08-29 13:06:18: oggm.workflow: Execute entity tasks [mb_calibration_from_scalar_mb] on 1 glaciers\n",
      "2025-08-29 13:06:18: oggm.workflow: Execute entity tasks [mb_calibration_from_scalar_mb] on 1 glaciers\n",
      "2025-08-29 13:06:18: oggm.workflow: Execute entity tasks [mb_calibration_from_scalar_mb] on 1 glaciers\n"
     ]
    },
    {
     "name": "stdout",
     "output_type": "stream",
     "text": [
      "155/320\n",
      "156/320\n",
      "157/320\n",
      "158/320\n"
     ]
    },
    {
     "name": "stderr",
     "output_type": "stream",
     "text": [
      "2025-08-29 13:06:18: oggm.workflow: Execute entity tasks [mb_calibration_from_scalar_mb] on 1 glaciers\n",
      "2025-08-29 13:06:18: oggm.workflow: Execute entity tasks [mb_calibration_from_scalar_mb] on 1 glaciers\n",
      "2025-08-29 13:06:18: oggm.workflow: Execute entity tasks [mb_calibration_from_scalar_mb] on 1 glaciers\n"
     ]
    },
    {
     "name": "stdout",
     "output_type": "stream",
     "text": [
      "159/320\n",
      "160/320\n",
      "161/320\n",
      "162/320\n"
     ]
    },
    {
     "name": "stderr",
     "output_type": "stream",
     "text": [
      "2025-08-29 13:06:18: oggm.workflow: Execute entity tasks [mb_calibration_from_scalar_mb] on 1 glaciers\n",
      "2025-08-29 13:06:18: oggm.workflow: Execute entity tasks [mb_calibration_from_scalar_mb] on 1 glaciers\n",
      "2025-08-29 13:06:19: oggm.workflow: Execute entity tasks [mb_calibration_from_scalar_mb] on 1 glaciers\n",
      "2025-08-29 13:06:19: oggm.workflow: Execute entity tasks [mb_calibration_from_scalar_mb] on 1 glaciers\n"
     ]
    },
    {
     "name": "stdout",
     "output_type": "stream",
     "text": [
      "163/320\n",
      "164/320\n",
      "165/320\n"
     ]
    },
    {
     "name": "stderr",
     "output_type": "stream",
     "text": [
      "2025-08-29 13:06:19: oggm.workflow: Execute entity tasks [mb_calibration_from_scalar_mb] on 1 glaciers\n",
      "2025-08-29 13:06:19: oggm.workflow: Execute entity tasks [mb_calibration_from_scalar_mb] on 1 glaciers\n",
      "2025-08-29 13:06:19: oggm.workflow: Execute entity tasks [mb_calibration_from_scalar_mb] on 1 glaciers\n",
      "2025-08-29 13:06:19: oggm.workflow: Execute entity tasks [mb_calibration_from_scalar_mb] on 1 glaciers\n"
     ]
    },
    {
     "name": "stdout",
     "output_type": "stream",
     "text": [
      "166/320\n",
      "167/320\n",
      "168/320\n",
      "169/320\n",
      "170/320\n"
     ]
    },
    {
     "name": "stderr",
     "output_type": "stream",
     "text": [
      "2025-08-29 13:06:19: oggm.workflow: Execute entity tasks [mb_calibration_from_scalar_mb] on 1 glaciers\n",
      "2025-08-29 13:06:19: oggm.workflow: Execute entity tasks [mb_calibration_from_scalar_mb] on 1 glaciers\n",
      "2025-08-29 13:06:19: oggm.workflow: Execute entity tasks [mb_calibration_from_scalar_mb] on 1 glaciers\n",
      "2025-08-29 13:06:19: oggm.workflow: Execute entity tasks [mb_calibration_from_scalar_mb] on 1 glaciers\n",
      "2025-08-29 13:06:19: oggm.workflow: Execute entity tasks [mb_calibration_from_scalar_mb] on 1 glaciers\n"
     ]
    },
    {
     "name": "stdout",
     "output_type": "stream",
     "text": [
      "171/320\n",
      "172/320\n",
      "173/320\n",
      "174/320\n"
     ]
    },
    {
     "name": "stderr",
     "output_type": "stream",
     "text": [
      "2025-08-29 13:06:19: oggm.workflow: Execute entity tasks [mb_calibration_from_scalar_mb] on 1 glaciers\n",
      "2025-08-29 13:06:19: oggm.workflow: Execute entity tasks [mb_calibration_from_scalar_mb] on 1 glaciers\n",
      "2025-08-29 13:06:19: oggm.workflow: Execute entity tasks [mb_calibration_from_scalar_mb] on 1 glaciers\n",
      "2025-08-29 13:06:19: oggm.workflow: Execute entity tasks [mb_calibration_from_scalar_mb] on 1 glaciers\n"
     ]
    },
    {
     "name": "stdout",
     "output_type": "stream",
     "text": [
      "175/320\n",
      "176/320\n",
      "177/320\n",
      "178/320\n"
     ]
    },
    {
     "name": "stderr",
     "output_type": "stream",
     "text": [
      "2025-08-29 13:06:19: oggm.workflow: Execute entity tasks [mb_calibration_from_scalar_mb] on 1 glaciers\n",
      "2025-08-29 13:06:19: oggm.workflow: Execute entity tasks [mb_calibration_from_scalar_mb] on 1 glaciers\n",
      "2025-08-29 13:06:19: oggm.workflow: Execute entity tasks [mb_calibration_from_scalar_mb] on 1 glaciers\n",
      "2025-08-29 13:06:20: oggm.workflow: Execute entity tasks [mb_calibration_from_scalar_mb] on 1 glaciers\n"
     ]
    },
    {
     "name": "stdout",
     "output_type": "stream",
     "text": [
      "179/320\n",
      "180/320\n",
      "181/320\n",
      "182/320\n",
      "183/320\n"
     ]
    },
    {
     "name": "stderr",
     "output_type": "stream",
     "text": [
      "2025-08-29 13:06:20: oggm.workflow: Execute entity tasks [mb_calibration_from_scalar_mb] on 1 glaciers\n",
      "2025-08-29 13:06:20: oggm.workflow: Execute entity tasks [mb_calibration_from_scalar_mb] on 1 glaciers\n",
      "2025-08-29 13:06:20: oggm.workflow: Execute entity tasks [mb_calibration_from_scalar_mb] on 1 glaciers\n",
      "2025-08-29 13:06:20: oggm.workflow: Execute entity tasks [mb_calibration_from_scalar_mb] on 1 glaciers\n",
      "2025-08-29 13:06:20: oggm.workflow: Execute entity tasks [mb_calibration_from_scalar_mb] on 1 glaciers\n"
     ]
    },
    {
     "name": "stdout",
     "output_type": "stream",
     "text": [
      "184/320\n",
      "185/320\n",
      "186/320\n",
      "187/320\n",
      "188/320\n"
     ]
    },
    {
     "name": "stderr",
     "output_type": "stream",
     "text": [
      "2025-08-29 13:06:20: oggm.workflow: Execute entity tasks [mb_calibration_from_scalar_mb] on 1 glaciers\n",
      "2025-08-29 13:06:20: oggm.workflow: Execute entity tasks [mb_calibration_from_scalar_mb] on 1 glaciers\n",
      "2025-08-29 13:06:20: oggm.workflow: Execute entity tasks [mb_calibration_from_scalar_mb] on 1 glaciers\n",
      "2025-08-29 13:06:20: oggm.workflow: Execute entity tasks [mb_calibration_from_scalar_mb] on 1 glaciers\n",
      "2025-08-29 13:06:20: oggm.workflow: Execute entity tasks [mb_calibration_from_scalar_mb] on 1 glaciers\n"
     ]
    },
    {
     "name": "stdout",
     "output_type": "stream",
     "text": [
      "189/320\n",
      "190/320\n",
      "191/320\n",
      "192/320\n"
     ]
    },
    {
     "name": "stderr",
     "output_type": "stream",
     "text": [
      "2025-08-29 13:06:20: oggm.workflow: Execute entity tasks [mb_calibration_from_scalar_mb] on 1 glaciers\n",
      "2025-08-29 13:06:20: oggm.workflow: Execute entity tasks [mb_calibration_from_scalar_mb] on 1 glaciers\n",
      "2025-08-29 13:06:20: oggm.workflow: Execute entity tasks [mb_calibration_from_scalar_mb] on 1 glaciers\n",
      "2025-08-29 13:06:20: oggm.workflow: Execute entity tasks [mb_calibration_from_scalar_mb] on 1 glaciers\n"
     ]
    },
    {
     "name": "stdout",
     "output_type": "stream",
     "text": [
      "193/320\n",
      "194/320\n",
      "195/320\n",
      "196/320\n"
     ]
    },
    {
     "name": "stderr",
     "output_type": "stream",
     "text": [
      "2025-08-29 13:06:20: oggm.workflow: Execute entity tasks [mb_calibration_from_scalar_mb] on 1 glaciers\n",
      "2025-08-29 13:06:20: oggm.workflow: Execute entity tasks [mb_calibration_from_scalar_mb] on 1 glaciers\n",
      "2025-08-29 13:06:20: oggm.workflow: Execute entity tasks [mb_calibration_from_scalar_mb] on 1 glaciers\n",
      "2025-08-29 13:06:20: oggm.workflow: Execute entity tasks [mb_calibration_from_scalar_mb] on 1 glaciers\n"
     ]
    },
    {
     "name": "stdout",
     "output_type": "stream",
     "text": [
      "197/320\n",
      "198/320\n",
      "199/320\n",
      "200/320\n"
     ]
    },
    {
     "name": "stderr",
     "output_type": "stream",
     "text": [
      "2025-08-29 13:06:21: oggm.workflow: Execute entity tasks [mb_calibration_from_scalar_mb] on 1 glaciers\n",
      "2025-08-29 13:06:21: oggm.workflow: Execute entity tasks [mb_calibration_from_scalar_mb] on 1 glaciers\n",
      "2025-08-29 13:06:21: oggm.workflow: Execute entity tasks [mb_calibration_from_scalar_mb] on 1 glaciers\n",
      "2025-08-29 13:06:21: oggm.workflow: Execute entity tasks [mb_calibration_from_scalar_mb] on 1 glaciers\n"
     ]
    },
    {
     "name": "stdout",
     "output_type": "stream",
     "text": [
      "201/320\n",
      "202/320\n",
      "203/320\n",
      "204/320\n"
     ]
    },
    {
     "name": "stderr",
     "output_type": "stream",
     "text": [
      "2025-08-29 13:06:21: oggm.workflow: Execute entity tasks [mb_calibration_from_scalar_mb] on 1 glaciers\n",
      "2025-08-29 13:06:21: oggm.workflow: Execute entity tasks [mb_calibration_from_scalar_mb] on 1 glaciers\n",
      "2025-08-29 13:06:21: oggm.workflow: Execute entity tasks [mb_calibration_from_scalar_mb] on 1 glaciers\n",
      "2025-08-29 13:06:21: oggm.workflow: Execute entity tasks [mb_calibration_from_scalar_mb] on 1 glaciers\n"
     ]
    },
    {
     "name": "stdout",
     "output_type": "stream",
     "text": [
      "205/320\n",
      "206/320\n",
      "207/320\n",
      "208/320\n"
     ]
    },
    {
     "name": "stderr",
     "output_type": "stream",
     "text": [
      "2025-08-29 13:06:21: oggm.workflow: Execute entity tasks [mb_calibration_from_scalar_mb] on 1 glaciers\n",
      "2025-08-29 13:06:21: oggm.workflow: Execute entity tasks [mb_calibration_from_scalar_mb] on 1 glaciers\n",
      "2025-08-29 13:06:21: oggm.workflow: Execute entity tasks [mb_calibration_from_scalar_mb] on 1 glaciers\n",
      "2025-08-29 13:06:21: oggm.workflow: Execute entity tasks [mb_calibration_from_scalar_mb] on 1 glaciers\n"
     ]
    },
    {
     "name": "stdout",
     "output_type": "stream",
     "text": [
      "209/320\n",
      "210/320\n",
      "211/320\n",
      "212/320\n"
     ]
    },
    {
     "name": "stderr",
     "output_type": "stream",
     "text": [
      "2025-08-29 13:06:21: oggm.workflow: Execute entity tasks [mb_calibration_from_scalar_mb] on 1 glaciers\n",
      "2025-08-29 13:06:21: oggm.workflow: Execute entity tasks [mb_calibration_from_scalar_mb] on 1 glaciers\n",
      "2025-08-29 13:06:21: oggm.workflow: Execute entity tasks [mb_calibration_from_scalar_mb] on 1 glaciers\n",
      "2025-08-29 13:06:21: oggm.workflow: Execute entity tasks [mb_calibration_from_scalar_mb] on 1 glaciers\n"
     ]
    },
    {
     "name": "stdout",
     "output_type": "stream",
     "text": [
      "213/320\n",
      "214/320\n",
      "215/320\n",
      "216/320\n"
     ]
    },
    {
     "name": "stderr",
     "output_type": "stream",
     "text": [
      "2025-08-29 13:06:21: oggm.workflow: Execute entity tasks [mb_calibration_from_scalar_mb] on 1 glaciers\n",
      "2025-08-29 13:06:21: oggm.workflow: Execute entity tasks [mb_calibration_from_scalar_mb] on 1 glaciers\n",
      "2025-08-29 13:06:22: oggm.workflow: Execute entity tasks [mb_calibration_from_scalar_mb] on 1 glaciers\n",
      "2025-08-29 13:06:22: oggm.workflow: Execute entity tasks [mb_calibration_from_scalar_mb] on 1 glaciers\n"
     ]
    },
    {
     "name": "stdout",
     "output_type": "stream",
     "text": [
      "217/320\n",
      "218/320\n",
      "219/320\n",
      "220/320\n"
     ]
    },
    {
     "name": "stderr",
     "output_type": "stream",
     "text": [
      "2025-08-29 13:06:22: oggm.workflow: Execute entity tasks [mb_calibration_from_scalar_mb] on 1 glaciers\n",
      "2025-08-29 13:06:22: oggm.workflow: Execute entity tasks [mb_calibration_from_scalar_mb] on 1 glaciers\n",
      "2025-08-29 13:06:22: oggm.workflow: Execute entity tasks [mb_calibration_from_scalar_mb] on 1 glaciers\n",
      "2025-08-29 13:06:22: oggm.workflow: Execute entity tasks [mb_calibration_from_scalar_mb] on 1 glaciers\n"
     ]
    },
    {
     "name": "stdout",
     "output_type": "stream",
     "text": [
      "221/320\n",
      "222/320\n",
      "223/320\n",
      "224/320\n"
     ]
    },
    {
     "name": "stderr",
     "output_type": "stream",
     "text": [
      "2025-08-29 13:06:22: oggm.workflow: Execute entity tasks [mb_calibration_from_scalar_mb] on 1 glaciers\n",
      "2025-08-29 13:06:22: oggm.workflow: Execute entity tasks [mb_calibration_from_scalar_mb] on 1 glaciers\n",
      "2025-08-29 13:06:22: oggm.workflow: Execute entity tasks [mb_calibration_from_scalar_mb] on 1 glaciers\n",
      "2025-08-29 13:06:22: oggm.workflow: Execute entity tasks [mb_calibration_from_scalar_mb] on 1 glaciers\n"
     ]
    },
    {
     "name": "stdout",
     "output_type": "stream",
     "text": [
      "225/320\n",
      "226/320\n",
      "227/320\n",
      "228/320\n"
     ]
    },
    {
     "name": "stderr",
     "output_type": "stream",
     "text": [
      "2025-08-29 13:06:22: oggm.workflow: Execute entity tasks [mb_calibration_from_scalar_mb] on 1 glaciers\n",
      "2025-08-29 13:06:22: oggm.workflow: Execute entity tasks [mb_calibration_from_scalar_mb] on 1 glaciers\n",
      "2025-08-29 13:06:22: oggm.workflow: Execute entity tasks [mb_calibration_from_scalar_mb] on 1 glaciers\n"
     ]
    },
    {
     "name": "stdout",
     "output_type": "stream",
     "text": [
      "229/320\n",
      "230/320\n",
      "231/320\n"
     ]
    },
    {
     "name": "stderr",
     "output_type": "stream",
     "text": [
      "2025-08-29 13:06:22: oggm.workflow: Execute entity tasks [mb_calibration_from_scalar_mb] on 1 glaciers\n",
      "2025-08-29 13:06:22: oggm.workflow: Execute entity tasks [mb_calibration_from_scalar_mb] on 1 glaciers\n",
      "2025-08-29 13:06:22: oggm.workflow: Execute entity tasks [mb_calibration_from_scalar_mb] on 1 glaciers\n",
      "2025-08-29 13:06:22: oggm.workflow: Execute entity tasks [mb_calibration_from_scalar_mb] on 1 glaciers\n"
     ]
    },
    {
     "name": "stdout",
     "output_type": "stream",
     "text": [
      "232/320\n",
      "233/320\n",
      "234/320\n",
      "235/320\n"
     ]
    },
    {
     "name": "stderr",
     "output_type": "stream",
     "text": [
      "2025-08-29 13:06:23: oggm.workflow: Execute entity tasks [mb_calibration_from_scalar_mb] on 1 glaciers\n",
      "2025-08-29 13:06:23: oggm.workflow: Execute entity tasks [mb_calibration_from_scalar_mb] on 1 glaciers\n",
      "2025-08-29 13:06:23: oggm.workflow: Execute entity tasks [mb_calibration_from_scalar_mb] on 1 glaciers\n",
      "2025-08-29 13:06:23: oggm.workflow: Execute entity tasks [mb_calibration_from_scalar_mb] on 1 glaciers\n"
     ]
    },
    {
     "name": "stdout",
     "output_type": "stream",
     "text": [
      "236/320\n",
      "237/320\n",
      "238/320\n",
      "239/320\n"
     ]
    },
    {
     "name": "stderr",
     "output_type": "stream",
     "text": [
      "2025-08-29 13:06:23: oggm.workflow: Execute entity tasks [mb_calibration_from_scalar_mb] on 1 glaciers\n",
      "2025-08-29 13:06:23: oggm.workflow: Execute entity tasks [mb_calibration_from_scalar_mb] on 1 glaciers\n",
      "2025-08-29 13:06:23: oggm.workflow: Execute entity tasks [mb_calibration_from_scalar_mb] on 1 glaciers\n",
      "2025-08-29 13:06:23: oggm.workflow: Execute entity tasks [mb_calibration_from_scalar_mb] on 1 glaciers\n"
     ]
    },
    {
     "name": "stdout",
     "output_type": "stream",
     "text": [
      "240/320\n",
      "241/320\n",
      "242/320\n",
      "243/320\n"
     ]
    },
    {
     "name": "stderr",
     "output_type": "stream",
     "text": [
      "2025-08-29 13:06:23: oggm.workflow: Execute entity tasks [mb_calibration_from_scalar_mb] on 1 glaciers\n",
      "2025-08-29 13:06:23: oggm.workflow: Execute entity tasks [mb_calibration_from_scalar_mb] on 1 glaciers\n",
      "2025-08-29 13:06:23: oggm.workflow: Execute entity tasks [mb_calibration_from_scalar_mb] on 1 glaciers\n",
      "2025-08-29 13:06:23: oggm.workflow: Execute entity tasks [mb_calibration_from_scalar_mb] on 1 glaciers\n"
     ]
    },
    {
     "name": "stdout",
     "output_type": "stream",
     "text": [
      "244/320\n",
      "245/320\n",
      "246/320\n",
      "247/320\n"
     ]
    },
    {
     "name": "stderr",
     "output_type": "stream",
     "text": [
      "2025-08-29 13:06:23: oggm.workflow: Execute entity tasks [mb_calibration_from_scalar_mb] on 1 glaciers\n",
      "2025-08-29 13:06:23: oggm.workflow: Execute entity tasks [mb_calibration_from_scalar_mb] on 1 glaciers\n",
      "2025-08-29 13:06:23: oggm.workflow: Execute entity tasks [mb_calibration_from_scalar_mb] on 1 glaciers\n",
      "2025-08-29 13:06:23: oggm.workflow: Execute entity tasks [mb_calibration_from_scalar_mb] on 1 glaciers\n"
     ]
    },
    {
     "name": "stdout",
     "output_type": "stream",
     "text": [
      "248/320\n",
      "249/320\n",
      "250/320\n",
      "251/320\n"
     ]
    },
    {
     "name": "stderr",
     "output_type": "stream",
     "text": [
      "2025-08-29 13:06:23: oggm.workflow: Execute entity tasks [mb_calibration_from_scalar_mb] on 1 glaciers\n",
      "2025-08-29 13:06:23: oggm.workflow: Execute entity tasks [mb_calibration_from_scalar_mb] on 1 glaciers\n",
      "2025-08-29 13:06:24: oggm.workflow: Execute entity tasks [mb_calibration_from_scalar_mb] on 1 glaciers\n",
      "2025-08-29 13:06:24: oggm.workflow: Execute entity tasks [mb_calibration_from_scalar_mb] on 1 glaciers\n"
     ]
    },
    {
     "name": "stdout",
     "output_type": "stream",
     "text": [
      "252/320\n",
      "253/320\n",
      "254/320\n",
      "255/320\n"
     ]
    },
    {
     "name": "stderr",
     "output_type": "stream",
     "text": [
      "2025-08-29 13:06:24: oggm.workflow: Execute entity tasks [mb_calibration_from_scalar_mb] on 1 glaciers\n",
      "2025-08-29 13:06:24: oggm.workflow: Execute entity tasks [mb_calibration_from_scalar_mb] on 1 glaciers\n",
      "2025-08-29 13:06:24: oggm.workflow: Execute entity tasks [mb_calibration_from_scalar_mb] on 1 glaciers\n",
      "2025-08-29 13:06:24: oggm.workflow: Execute entity tasks [mb_calibration_from_scalar_mb] on 1 glaciers\n"
     ]
    },
    {
     "name": "stdout",
     "output_type": "stream",
     "text": [
      "256/320\n",
      "257/320\n",
      "258/320\n",
      "259/320\n"
     ]
    },
    {
     "name": "stderr",
     "output_type": "stream",
     "text": [
      "2025-08-29 13:06:24: oggm.workflow: Execute entity tasks [mb_calibration_from_scalar_mb] on 1 glaciers\n",
      "2025-08-29 13:06:24: oggm.workflow: Execute entity tasks [mb_calibration_from_scalar_mb] on 1 glaciers\n",
      "2025-08-29 13:06:24: oggm.workflow: Execute entity tasks [mb_calibration_from_scalar_mb] on 1 glaciers\n",
      "2025-08-29 13:06:24: oggm.workflow: Execute entity tasks [mb_calibration_from_scalar_mb] on 1 glaciers\n"
     ]
    },
    {
     "name": "stdout",
     "output_type": "stream",
     "text": [
      "260/320\n",
      "261/320\n",
      "262/320\n",
      "263/320\n"
     ]
    },
    {
     "name": "stderr",
     "output_type": "stream",
     "text": [
      "2025-08-29 13:06:24: oggm.workflow: Execute entity tasks [mb_calibration_from_scalar_mb] on 1 glaciers\n",
      "2025-08-29 13:06:24: oggm.workflow: Execute entity tasks [mb_calibration_from_scalar_mb] on 1 glaciers\n",
      "2025-08-29 13:06:24: oggm.workflow: Execute entity tasks [mb_calibration_from_scalar_mb] on 1 glaciers\n",
      "2025-08-29 13:06:24: oggm.workflow: Execute entity tasks [mb_calibration_from_scalar_mb] on 1 glaciers\n"
     ]
    },
    {
     "name": "stdout",
     "output_type": "stream",
     "text": [
      "264/320\n",
      "265/320\n",
      "266/320\n",
      "267/320\n"
     ]
    },
    {
     "name": "stderr",
     "output_type": "stream",
     "text": [
      "2025-08-29 13:06:24: oggm.workflow: Execute entity tasks [mb_calibration_from_scalar_mb] on 1 glaciers\n",
      "2025-08-29 13:06:24: oggm.workflow: Execute entity tasks [mb_calibration_from_scalar_mb] on 1 glaciers\n",
      "2025-08-29 13:06:24: oggm.workflow: Execute entity tasks [mb_calibration_from_scalar_mb] on 1 glaciers\n",
      "2025-08-29 13:06:25: oggm.workflow: Execute entity tasks [mb_calibration_from_scalar_mb] on 1 glaciers\n"
     ]
    },
    {
     "name": "stdout",
     "output_type": "stream",
     "text": [
      "268/320\n",
      "269/320\n",
      "270/320\n",
      "271/320\n"
     ]
    },
    {
     "name": "stderr",
     "output_type": "stream",
     "text": [
      "2025-08-29 13:06:25: oggm.workflow: Execute entity tasks [mb_calibration_from_scalar_mb] on 1 glaciers\n",
      "2025-08-29 13:06:25: oggm.workflow: Execute entity tasks [mb_calibration_from_scalar_mb] on 1 glaciers\n",
      "2025-08-29 13:06:25: oggm.workflow: Execute entity tasks [mb_calibration_from_scalar_mb] on 1 glaciers\n",
      "2025-08-29 13:06:25: oggm.workflow: Execute entity tasks [mb_calibration_from_scalar_mb] on 1 glaciers\n"
     ]
    },
    {
     "name": "stdout",
     "output_type": "stream",
     "text": [
      "272/320\n",
      "273/320\n",
      "274/320\n",
      "275/320\n"
     ]
    },
    {
     "name": "stderr",
     "output_type": "stream",
     "text": [
      "2025-08-29 13:06:25: oggm.workflow: Execute entity tasks [mb_calibration_from_scalar_mb] on 1 glaciers\n",
      "2025-08-29 13:06:25: oggm.workflow: Execute entity tasks [mb_calibration_from_scalar_mb] on 1 glaciers\n",
      "2025-08-29 13:06:25: oggm.workflow: Execute entity tasks [mb_calibration_from_scalar_mb] on 1 glaciers\n",
      "2025-08-29 13:06:25: oggm.workflow: Execute entity tasks [mb_calibration_from_scalar_mb] on 1 glaciers\n"
     ]
    },
    {
     "name": "stdout",
     "output_type": "stream",
     "text": [
      "276/320\n",
      "277/320\n",
      "278/320\n",
      "279/320\n"
     ]
    },
    {
     "name": "stderr",
     "output_type": "stream",
     "text": [
      "2025-08-29 13:06:25: oggm.workflow: Execute entity tasks [mb_calibration_from_scalar_mb] on 1 glaciers\n",
      "2025-08-29 13:06:25: oggm.workflow: Execute entity tasks [mb_calibration_from_scalar_mb] on 1 glaciers\n",
      "2025-08-29 13:06:25: oggm.workflow: Execute entity tasks [mb_calibration_from_scalar_mb] on 1 glaciers\n",
      "2025-08-29 13:06:25: oggm.workflow: Execute entity tasks [mb_calibration_from_scalar_mb] on 1 glaciers\n"
     ]
    },
    {
     "name": "stdout",
     "output_type": "stream",
     "text": [
      "280/320\n",
      "281/320\n",
      "282/320\n",
      "283/320\n",
      "284/320\n"
     ]
    },
    {
     "name": "stderr",
     "output_type": "stream",
     "text": [
      "2025-08-29 13:06:25: oggm.workflow: Execute entity tasks [mb_calibration_from_scalar_mb] on 1 glaciers\n",
      "2025-08-29 13:06:25: oggm.workflow: Execute entity tasks [mb_calibration_from_scalar_mb] on 1 glaciers\n",
      "2025-08-29 13:06:25: oggm.workflow: Execute entity tasks [mb_calibration_from_scalar_mb] on 1 glaciers\n",
      "2025-08-29 13:06:25: oggm.workflow: Execute entity tasks [mb_calibration_from_scalar_mb] on 1 glaciers\n",
      "2025-08-29 13:06:25: oggm.workflow: Execute entity tasks [mb_calibration_from_scalar_mb] on 1 glaciers\n"
     ]
    },
    {
     "name": "stdout",
     "output_type": "stream",
     "text": [
      "285/320\n",
      "286/320\n",
      "287/320\n",
      "288/320\n"
     ]
    },
    {
     "name": "stderr",
     "output_type": "stream",
     "text": [
      "2025-08-29 13:06:25: oggm.workflow: Execute entity tasks [mb_calibration_from_scalar_mb] on 1 glaciers\n",
      "2025-08-29 13:06:26: oggm.workflow: Execute entity tasks [mb_calibration_from_scalar_mb] on 1 glaciers\n",
      "2025-08-29 13:06:26: oggm.workflow: Execute entity tasks [mb_calibration_from_scalar_mb] on 1 glaciers\n",
      "2025-08-29 13:06:26: oggm.workflow: Execute entity tasks [mb_calibration_from_scalar_mb] on 1 glaciers\n"
     ]
    },
    {
     "name": "stdout",
     "output_type": "stream",
     "text": [
      "289/320\n",
      "290/320\n",
      "291/320\n",
      "292/320\n"
     ]
    },
    {
     "name": "stderr",
     "output_type": "stream",
     "text": [
      "2025-08-29 13:06:26: oggm.workflow: Execute entity tasks [mb_calibration_from_scalar_mb] on 1 glaciers\n",
      "2025-08-29 13:06:26: oggm.workflow: Execute entity tasks [mb_calibration_from_scalar_mb] on 1 glaciers\n",
      "2025-08-29 13:06:26: oggm.workflow: Execute entity tasks [mb_calibration_from_scalar_mb] on 1 glaciers\n",
      "2025-08-29 13:06:26: oggm.workflow: Execute entity tasks [mb_calibration_from_scalar_mb] on 1 glaciers\n"
     ]
    },
    {
     "name": "stdout",
     "output_type": "stream",
     "text": [
      "293/320\n",
      "294/320\n",
      "295/320\n",
      "296/320\n"
     ]
    },
    {
     "name": "stderr",
     "output_type": "stream",
     "text": [
      "2025-08-29 13:06:26: oggm.workflow: Execute entity tasks [mb_calibration_from_scalar_mb] on 1 glaciers\n",
      "2025-08-29 13:06:26: oggm.workflow: Execute entity tasks [mb_calibration_from_scalar_mb] on 1 glaciers\n",
      "2025-08-29 13:06:26: oggm.workflow: Execute entity tasks [mb_calibration_from_scalar_mb] on 1 glaciers\n",
      "2025-08-29 13:06:26: oggm.workflow: Execute entity tasks [mb_calibration_from_scalar_mb] on 1 glaciers\n"
     ]
    },
    {
     "name": "stdout",
     "output_type": "stream",
     "text": [
      "297/320\n",
      "298/320\n",
      "299/320\n",
      "300/320\n"
     ]
    },
    {
     "name": "stderr",
     "output_type": "stream",
     "text": [
      "2025-08-29 13:06:26: oggm.workflow: Execute entity tasks [mb_calibration_from_scalar_mb] on 1 glaciers\n",
      "2025-08-29 13:06:26: oggm.workflow: Execute entity tasks [mb_calibration_from_scalar_mb] on 1 glaciers\n",
      "2025-08-29 13:06:26: oggm.workflow: Execute entity tasks [mb_calibration_from_scalar_mb] on 1 glaciers\n",
      "2025-08-29 13:06:26: oggm.workflow: Execute entity tasks [mb_calibration_from_scalar_mb] on 1 glaciers\n"
     ]
    },
    {
     "name": "stdout",
     "output_type": "stream",
     "text": [
      "301/320\n",
      "302/320\n",
      "303/320\n",
      "304/320\n"
     ]
    },
    {
     "name": "stderr",
     "output_type": "stream",
     "text": [
      "2025-08-29 13:06:26: oggm.workflow: Execute entity tasks [mb_calibration_from_scalar_mb] on 1 glaciers\n",
      "2025-08-29 13:06:26: oggm.workflow: Execute entity tasks [mb_calibration_from_scalar_mb] on 1 glaciers\n",
      "2025-08-29 13:06:26: oggm.workflow: Execute entity tasks [mb_calibration_from_scalar_mb] on 1 glaciers\n",
      "2025-08-29 13:06:26: oggm.workflow: Execute entity tasks [mb_calibration_from_scalar_mb] on 1 glaciers\n"
     ]
    },
    {
     "name": "stdout",
     "output_type": "stream",
     "text": [
      "305/320\n",
      "306/320\n",
      "307/320\n",
      "308/320\n",
      "309/320\n"
     ]
    },
    {
     "name": "stderr",
     "output_type": "stream",
     "text": [
      "2025-08-29 13:06:27: oggm.workflow: Execute entity tasks [mb_calibration_from_scalar_mb] on 1 glaciers\n",
      "2025-08-29 13:06:27: oggm.workflow: Execute entity tasks [mb_calibration_from_scalar_mb] on 1 glaciers\n",
      "2025-08-29 13:06:27: oggm.workflow: Execute entity tasks [mb_calibration_from_scalar_mb] on 1 glaciers\n",
      "2025-08-29 13:06:27: oggm.workflow: Execute entity tasks [mb_calibration_from_scalar_mb] on 1 glaciers\n",
      "2025-08-29 13:06:27: oggm.workflow: Execute entity tasks [mb_calibration_from_scalar_mb] on 1 glaciers\n"
     ]
    },
    {
     "name": "stdout",
     "output_type": "stream",
     "text": [
      "310/320\n",
      "311/320\n",
      "312/320\n",
      "313/320\n"
     ]
    },
    {
     "name": "stderr",
     "output_type": "stream",
     "text": [
      "2025-08-29 13:06:27: oggm.workflow: Execute entity tasks [mb_calibration_from_scalar_mb] on 1 glaciers\n",
      "2025-08-29 13:06:27: oggm.workflow: Execute entity tasks [mb_calibration_from_scalar_mb] on 1 glaciers\n",
      "2025-08-29 13:06:27: oggm.workflow: Execute entity tasks [mb_calibration_from_scalar_mb] on 1 glaciers\n",
      "2025-08-29 13:06:27: oggm.workflow: Execute entity tasks [mb_calibration_from_scalar_mb] on 1 glaciers\n"
     ]
    },
    {
     "name": "stdout",
     "output_type": "stream",
     "text": [
      "314/320\n",
      "315/320\n",
      "316/320\n",
      "317/320\n"
     ]
    },
    {
     "name": "stderr",
     "output_type": "stream",
     "text": [
      "2025-08-29 13:06:27: oggm.workflow: Execute entity tasks [mb_calibration_from_scalar_mb] on 1 glaciers\n",
      "2025-08-29 13:06:27: oggm.workflow: Execute entity tasks [mb_calibration_from_scalar_mb] on 1 glaciers\n",
      "2025-08-29 13:06:27: oggm.workflow: Execute entity tasks [mb_calibration_from_scalar_mb] on 1 glaciers\n"
     ]
    },
    {
     "name": "stdout",
     "output_type": "stream",
     "text": [
      "318/320\n",
      "319/320\n",
      "320/320\n"
     ]
    }
   ],
   "source": [
    "# for the reference mass balance we provide the same error and mb_period as the original observation\n",
    "gdir.observations_filesuffix = ''\n",
    "ref_mb = gdir.observations['ref_mb']\n",
    "\n",
    "for i, param_val in enumerate(param_values):\n",
    "    print(f\"{i + 1}/{param_values.shape[0]}\")\n",
    "    mcs_mb_calibration(gdir,\n",
    "                       settings_filesuffix=f'_{i}',\n",
    "                       settings_parent_filesuffix='',\n",
    "                       observations_filesuffix=f'_{i}',\n",
    "                       ref_mb_period=ref_mb['period'],\n",
    "                       ref_mb_err=ref_mb['err'],\n",
    "                       ref_mb=param_val[problem['names'].index('ref_mb')],\n",
    "                       prcp_fac=param_val[problem['names'].index('prcp_fac')],\n",
    "                       melt_f=param_val[problem['names'].index('melt_f')],\n",
    "                       temp_bias=param_val[problem['names'].index('temp_bias')],\n",
    "                      )"
   ]
  },
  {
   "cell_type": "markdown",
   "id": "f304272c-f37b-44a1-ab65-68a16860400c",
   "metadata": {},
   "source": [
    "# Look at results"
   ]
  },
  {
   "cell_type": "markdown",
   "id": "a7d0e8a6-6a77-4ea4-843d-8bf7f855518a",
   "metadata": {},
   "source": [
    "## resulting distribution of mb parameters"
   ]
  },
  {
   "cell_type": "markdown",
   "id": "360791af-4456-412d-9a73-a2e95c72ae06",
   "metadata": {},
   "source": [
    "Here just look at the resulting mass balance parameters after calibration. We initialized all with a uniform distribution."
   ]
  },
  {
   "cell_type": "code",
   "execution_count": 13,
   "id": "0729b8bf-289d-41e6-bbb8-5be86c9f1df0",
   "metadata": {},
   "outputs": [],
   "source": [
    "# default run parameters\n",
    "gdir.settings_filesuffix = ''\n",
    "prcp_fac_default = gdir.settings['prcp_fac']\n",
    "melt_f_default = gdir.settings['melt_f']\n",
    "temp_bias_default = gdir.settings['temp_bias']\n",
    "\n",
    "prcp_fac_all = []\n",
    "melt_f_all  =[]\n",
    "temp_bias_all = []\n",
    "\n",
    "for i in range(param_values.shape[0]):\n",
    "    gdir.settings_filesuffix = f'_{i}'\n",
    "    prcp_fac_all.append(gdir.settings['prcp_fac'])\n",
    "    melt_f_all.append(gdir.settings['melt_f'])\n",
    "    temp_bias_all.append(gdir.settings['temp_bias'])"
   ]
  },
  {
   "cell_type": "code",
   "execution_count": 14,
   "id": "961d3319-5ff5-473d-9611-bce6f6179c24",
   "metadata": {},
   "outputs": [
    {
     "data": {
      "image/png": "[encoded data removed]",
      "text/plain": [
       "<Figure size 640x480 with 1 Axes>"
      ]
     },
     "metadata": {},
     "output_type": "display_data"
    },
    {
     "data": {
      "image/png": "[encoded data removed]",
      "text/plain": [
       "<Figure size 640x480 with 1 Axes>"
      ]
     },
     "metadata": {},
     "output_type": "display_data"
    },
    {
     "data": {
      "image/png": "[encoded data removed]",
      "text/plain": [
       "<Figure size 640x480 with 1 Axes>"
      ]
     },
     "metadata": {},
     "output_type": "display_data"
    }
   ],
   "source": [
    "def plt_parameter_distribution(para_all, para_default, title, bins=20):\n",
    "    plt.hist(para_all, bins=bins, color='C0')\n",
    "    plt.axvline(para_default, c='k', label='control run')\n",
    "    plt.axvline(np.median(para_all), c='C1', label='median from sample')\n",
    "    plt.axvline(np.mean(para_all), c='C1', ls='--', label='mean from sample')\n",
    "    plt.title(title)\n",
    "    plt.legend()\n",
    "    plt.show()\n",
    "\n",
    "plt_parameter_distribution(prcp_fac_all,\n",
    "                           prcp_fac_default,\n",
    "                           'prcp_fac',\n",
    "                           bins=20)\n",
    "\n",
    "plt_parameter_distribution(melt_f_all,\n",
    "                           melt_f_default,\n",
    "                           'melt_f',\n",
    "                           bins=20)\n",
    "\n",
    "plt_parameter_distribution(temp_bias_all,\n",
    "                           temp_bias_default,\n",
    "                           'temp_bias',\n",
    "                           bins=20)\n"
   ]
  },
  {
   "cell_type": "markdown",
   "id": "e3ed0da3-d416-4a6f-976b-af255cbdd10b",
   "metadata": {},
   "source": [
    "## pick one year and look at distribution of resulting mb values"
   ]
  },
  {
   "cell_type": "markdown",
   "id": "6bb81de8-4fcb-4f62-931c-01c60b271067",
   "metadata": {},
   "source": [
    "Here we visualize the uncertainty for the specific mass balance for the period 1980 to 2020 as defined by the MCS sample."
   ]
  },
  {
   "cell_type": "code",
   "execution_count": 15,
   "id": "4779f043-b56c-4c58-8399-b67eb60fe563",
   "metadata": {},
   "outputs": [],
   "source": [
    "fls = gdir.read_pickle('inversion_flowlines')\n",
    "years = np.arange(1980, 2020)\n",
    "\n",
    "# get control run (= current default OGGM calibration)\n",
    "mb_mod = MonthlyTIModel(gdir, settings_filesuffix='')\n",
    "specific_mb_default = mb_mod.get_specific_mb(fls=fls, year=years)\n",
    "\n",
    "# now get values from MCS sample\n",
    "specific_mb_all = []\n",
    "for i in range(param_values.shape[0]):\n",
    "    mb_mod = MonthlyTIModel(gdir, settings_filesuffix=f'_{i}')\n",
    "    specific_mb_all.append(mb_mod.get_specific_mb(fls=fls, year=years))\n",
    "specific_mb_all = np.array(specific_mb_all)"
   ]
  },
  {
   "cell_type": "code",
   "execution_count": 21,
   "id": "747f1282-2ef5-4c18-9e3c-b2b30f7bf8df",
   "metadata": {},
   "outputs": [
    {
     "data": {
      "image/png": "[encoded data removed]",
      "text/plain": [
       "<Figure size 640x480 with 1 Axes>"
      ]
     },
     "metadata": {},
     "output_type": "display_data"
    }
   ],
   "source": [
    "plt.fill_between(years, np.min(specific_mb_all, axis=0), np.max(specific_mb_all, axis=0),\n",
    "                 color='lightgray', label=f'range MCS sample')\n",
    "\n",
    "plt.plot(years, specific_mb_default, '-k', label='control run (default)')\n",
    "plt.plot(years, np.median(specific_mb_all, axis=0), 'C1--', label='median MCS sample')\n",
    "plt.plot(years, np.mean(specific_mb_all, axis=0), 'C2:', label='mean MCS sample')\n",
    "plt.title('Example of the uncertainties generated with MCS')\n",
    "plt.ylabel('Specific MB (mm w.e.)')\n",
    "plt.legend()\n",
    "plt.show()"
   ]
  },
  {
   "cell_type": "markdown",
   "id": "6798932d-3162-44d0-92d1-1e3796d00274",
   "metadata": {},
   "source": [
    "# Bonus: Get sensitivities (not needed at this stage of DTC-Glaciers)"
   ]
  },
  {
   "cell_type": "markdown",
   "id": "dc0c9a6c-94fd-49dc-94aa-2b51b475af15",
   "metadata": {},
   "source": [
    "This is not needed at the moment. But the idea is that you also can analyze how much of the variance of a result is comming from the observations and how much from the model parameters. This could become interesting in a next phase of DTC-Glaciers."
   ]
  },
  {
   "cell_type": "code",
   "execution_count": 17,
   "id": "e979491e-310c-43d2-a8c0-00c6fafc26ce",
   "metadata": {},
   "outputs": [],
   "source": [
    "# compare how much of the variance for one year is comming from the observation and how much from the model\n",
    "yr = 2000\n",
    "\n",
    "# now get values from MCS runs\n",
    "specific_mb_yr = []\n",
    "for i in range(param_values.shape[0]):\n",
    "    mb_mod = MonthlyTIModel(gdir, settings_filesuffix=f'_{i}')\n",
    "    specific_mb_yr.append(mb_mod.get_specific_mb(fls=fls, year=yr))\n",
    "specific_mb_yr = np.array(specific_mb_yr)"
   ]
  },
  {
   "cell_type": "code",
   "execution_count": 25,
   "id": "783534f7-b20c-4f54-9e55-d8845d949b19",
   "metadata": {},
   "outputs": [
    {
     "name": "stdout",
     "output_type": "stream",
     "text": [
      "                 ST   ST_conf\n",
      "ref_mb     0.069132  0.032055\n",
      "prcp_fac   0.959213  0.480933\n",
      "melt_f     0.121303  0.084683\n",
      "temp_bias  0.137700  0.103872\n",
      "                 S1   S1_conf\n",
      "ref_mb     0.092887  0.140456\n",
      "prcp_fac   0.702130  0.488540\n",
      "melt_f     0.196756  0.183623\n",
      "temp_bias  0.061604  0.192858\n",
      "                             S2   S2_conf\n",
      "(ref_mb, prcp_fac)     0.019816  0.263528\n",
      "(ref_mb, melt_f)      -0.101128  0.186669\n",
      "(ref_mb, temp_bias)   -0.095322  0.200636\n",
      "(prcp_fac, melt_f)    -0.025813  0.641291\n",
      "(prcp_fac, temp_bias)  0.047332  0.615218\n",
      "(melt_f, temp_bias)   -0.026448  0.307664\n"
     ]
    }
   ],
   "source": [
    "Si = analyser.analyze(problem, specific_mb_yr, print_to_console=True)"
   ]
  },
  {
   "cell_type": "markdown",
   "id": "135444d6-1631-402f-9453-61bd76d297d4",
   "metadata": {},
   "source": [
    "How to read this (from my amateur point of few, without digging into the references):\n",
    "\n",
    "In the first order sensitivities we see the larges portion of the sensitivity of the 2000 specific mass balance is comming from the precipitation factor followed by the melt_factor.\n",
    "\n",
    "To get a more indepth understanding have a look at the references provided in the docstring `analyser.analyze?`."
   ]
  },
  {
   "cell_type": "code",
   "execution_count": 26,
   "id": "d10dd9f4-0e00-4f03-94f8-2307308448e7",
   "metadata": {},
   "outputs": [],
   "source": [
    "# analyser.analyze?"
   ]
  },
  {
   "cell_type": "code",
   "execution_count": null,
   "id": "d0b925f2-866a-483f-a52d-c4fe1f8fddc8",
   "metadata": {},
   "outputs": [],
   "source": []
  }
 ],
 "metadata": {
  "kernelspec": {
   "display_name": "Python 3 (ipykernel)",
   "language": "python",
   "name": "python3"
  },
  "language_info": {
   "codemirror_mode": {
    "name": "ipython",
    "version": 3
   },
   "file_extension": ".py",
   "mimetype": "text/x-python",
   "name": "python",
   "nbconvert_exporter": "python",
   "pygments_lexer": "ipython3",
   "version": "3.10.16"
  }
 },
 "nbformat": 4,
 "nbformat_minor": 5
}
