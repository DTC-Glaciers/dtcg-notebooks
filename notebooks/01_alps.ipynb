{
 "cells": [
  {
   "cell_type": "markdown",
   "metadata": {},
   "source": [
    "# Glacier runoff in the Alps"
   ]
  },
  {
   "cell_type": "markdown",
   "metadata": {},
   "source": [
    "If necessary, install the DTCG API with:\n",
    "\n",
    "```\n",
    "!pip install --upgrade git+https://github.com/DTC-Glaciers/dtcg\n",
    "```\n",
    "\n",
    "In a cell below."
   ]
  },
  {
   "cell_type": "code",
   "execution_count": null,
   "metadata": {},
   "outputs": [],
   "source": [
    "import dtcg\n",
    "import dtcg.interface.gateway\n",
    "import dtcg.interface.plotting"
   ]
  },
  {
   "cell_type": "markdown",
   "metadata": {},
   "source": [
    "A user interacts with DTCG only through API requests.\n",
    "This means a single centralised framework can handle requests from Jupyter notebooks, websites, and cli wrappers.\n",
    "Flows are simplified for non-technical users, and can be customised for more advanced use cases.\n",
    "It also prevents significant changes to the DTCG API interfering with existing flows, as little to no backend code is exposed to the user."
   ]
  },
  {
   "cell_type": "code",
   "execution_count": null,
   "metadata": {},
   "outputs": [],
   "source": [
    "# User selects these via dropdown menus\n",
    "subregion_name = \"vent_rofenache\"\n",
    "glacier_name = \"Hintereisferner\""
   ]
  },
  {
   "cell_type": "markdown",
   "metadata": {},
   "source": [
    "API queries are extensible, as long as they conform to the OpenAPI standard.\n",
    "For selecting a subregion, this is what an API query could look like:"
   ]
  },
  {
   "cell_type": "code",
   "execution_count": null,
   "metadata": {},
   "outputs": [],
   "source": [
    "# A query might look like this\n",
    "user_query_params = {\n",
    "    \"action\": \"select_subregion\",\n",
    "    \"region_name\": \"Central Europe\",\n",
    "    \"subregion_name\": subregion_name,\n",
    "    \"glacier_name\": glacier_name,\n",
    "    \"shapefile_path\": \"nested_catchments_oetztal/nested_catchments_oetztal.shx\",\n",
    "    \"oggm_params\": {\n",
    "        \"use_multiprocessing\": True,\n",
    "        \"rgi_version\": \"62\",\n",
    "        \"store_model_geometry\": True,\n",
    "    },\n",
    "}"
   ]
  },
  {
   "cell_type": "markdown",
   "metadata": {},
   "source": [
    "A user can also select specific glaciers:"
   ]
  },
  {
   "cell_type": "code",
   "execution_count": null,
   "metadata": {},
   "outputs": [],
   "source": [
    "# A query might look like this\n",
    "user_query_params = {\n",
    "    \"action\": \"select_glacier\",\n",
    "    \"region_name\": \"Central Europe\",\n",
    "    \"subregion_name\": subregion_name,\n",
    "    \"glacier_name\": glacier_name,\n",
    "    \"shapefile_path\": \"nested_catchments_oetztal/nested_catchments_oetztal.shx\",\n",
    "    \"oggm_params\": {\n",
    "        \"use_multiprocessing\": True,\n",
    "        \"rgi_version\": \"62\",\n",
    "        \"store_model_geometry\": True,\n",
    "    },\n",
    "}\n",
    "handler = dtcg.interface.gateway.GatewayHandler(query=user_query_params)\n",
    "assert handler.response[\"response_code\"] == \"200\"\n",
    "data = handler.response[\"data\"]"
   ]
  },
  {
   "cell_type": "markdown",
   "metadata": {},
   "source": [
    "The API is very flexible: it can pass OGGM parameters directly to OGGM, and to preserve bandwidth a response can be customised to contain as little data as needed.\n",
    "\n",
    "Components are standalone, and can be combined into different dashboards.\n",
    "\n",
    "For this example, the response data are synthesised into interactive plots.\n",
    "In a dashboard setting, these plots can also support real-time data."
   ]
  },
  {
   "cell_type": "code",
   "execution_count": null,
   "metadata": {},
   "outputs": [],
   "source": [
    "dashboard = dtcg.interface.plotting.HoloviewsDashboard()\n",
    "dashboard.plot_graph.plot_mass_balance(\n",
    "    observations=data[\"runoff_data\"][\"wgms\"],\n",
    "    mass_balance=data[\"runoff_data\"][\"mass_balance\"],\n",
    "    name=handler.query.glacier_name,\n",
    ")"
   ]
  },
  {
   "cell_type": "markdown",
   "metadata": {},
   "source": [
    "All figures are generated using Holoviews, with Bokeh as a backend. Components can be accessed individually, or implemented into a dashboard. These can then be implemented into a frontend interface using FastAPI and Panel for web, and FastAPI and Celery for Jupyter notebooks."
   ]
  },
  {
   "cell_type": "code",
   "execution_count": null,
   "metadata": {},
   "outputs": [],
   "source": [
    "dashboard = dtcg.interface.plotting.HoloviewsDashboard()\n",
    "dashboard.plot_runoff_dashboard(\n",
    "    data=data,\n",
    "    subregion_name=handler.query.subregion_name,\n",
    "    glacier_name=\"\",\n",
    ")"
   ]
  }
 ],
 "metadata": {
  "kernelspec": {
   "display_name": "dtcg_oggm_311",
   "language": "python",
   "name": "python3"
  },
  "language_info": {
   "codemirror_mode": {
    "name": "ipython",
    "version": 3
   },
   "file_extension": ".py",
   "mimetype": "text/x-python",
   "name": "python",
   "nbconvert_exporter": "python",
   "pygments_lexer": "ipython3",
   "version": "3.11.12"
  }
 },
 "nbformat": 4,
 "nbformat_minor": 4
}
